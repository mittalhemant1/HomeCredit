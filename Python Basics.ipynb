{
 "cells": [
  {
   "cell_type": "markdown",
   "metadata": {},
   "source": [
    "# Print Statement"
   ]
  },
  {
   "cell_type": "code",
   "execution_count": 6,
   "metadata": {},
   "outputs": [
    {
     "name": "stdout",
     "output_type": "stream",
     "text": [
      "4\n",
      "9\n",
      "ab\n",
      "a b\"\n",
      "4 a\n",
      "4 \n",
      " 5\n"
     ]
    }
   ],
   "source": [
    "print(4)\n",
    "print(4+5)\n",
    "print(\"a\"+\"b\")\n",
    "print(\"a\",\"b\\\"\")\n",
    "print(4,\"a\")\n",
    "print(4,\"\\n\",5)"
   ]
  },
  {
   "cell_type": "markdown",
   "metadata": {},
   "source": [
    "Use Backslash to escape special characters"
   ]
  },
  {
   "cell_type": "markdown",
   "metadata": {},
   "source": [
    "# Data Types"
   ]
  },
  {
   "cell_type": "markdown",
   "metadata": {},
   "source": [
    "## Strings "
   ]
  },
  {
   "cell_type": "code",
   "execution_count": 25,
   "metadata": {},
   "outputs": [
    {
     "name": "stdout",
     "output_type": "stream",
     "text": [
      "12\n",
      "H\n",
      "e\n",
      "n\n",
      "n\n",
      "H\n",
      "2\n",
      "<class 'str'>\n",
      "llo\n",
      "HelloPython\n",
      "HelloHelloHelloHelloHello\n",
      "hello python\n",
      "HELLO PYTHON\n",
      ".1\n"
     ]
    }
   ],
   "source": [
    "string = \"Hello Python\"\n",
    "print(len(string))\n",
    "#indexing\n",
    "print(string[0])\n",
    "print(string[1])\n",
    "print(string[11])\n",
    "print(string[-1])\n",
    "print(string[-12])\n",
    "print(string.index(\"l\")) \n",
    "print(type(string))\n",
    "#slicing\n",
    "print(string[2:5])\n",
    "#concatening\n",
    "string2 = \"Hello\"+\"Python\"\n",
    "print(string2)\n",
    "#Repeating\n",
    "string3 = \"Hello\"*5\n",
    "print(string3)\n",
    "#case change\n",
    "print(string.lower())\n",
    "print(string.upper())\n",
    "#converting to sring\n",
    "a =4.12\n",
    "print(str(a)[1:3])"
   ]
  },
  {
   "cell_type": "markdown",
   "metadata": {},
   "source": [
    "## Numeric"
   ]
  },
  {
   "cell_type": "code",
   "execution_count": 28,
   "metadata": {},
   "outputs": [
    {
     "name": "stdout",
     "output_type": "stream",
     "text": [
      "<class 'int'> <class 'float'> <class 'complex'>\n",
      "2.0\n",
      "2\n"
     ]
    }
   ],
   "source": [
    "a = 2\n",
    "b = 2.3\n",
    "c = 2 + 3j\n",
    "print(type(a), type(b) , type(c))\n",
    "print(float(a))\n",
    "print(int(b))"
   ]
  },
  {
   "cell_type": "markdown",
   "metadata": {},
   "source": [
    "## Boolean Data Type"
   ]
  },
  {
   "cell_type": "code",
   "execution_count": 38,
   "metadata": {},
   "outputs": [
    {
     "name": "stdout",
     "output_type": "stream",
     "text": [
      "True\n",
      "False\n",
      "True\n",
      "False\n",
      "True\n",
      "False\n"
     ]
    }
   ],
   "source": [
    "a=2<3\n",
    "print(a)\n",
    "print(not a)\n",
    "b = False\n",
    "print(a or b)\n",
    "print(a and b)\n",
    "print(a|b)\n",
    "print(a&b)"
   ]
  },
  {
   "cell_type": "markdown",
   "metadata": {},
   "source": [
    "## Lists"
   ]
  },
  {
   "cell_type": "code",
   "execution_count": 62,
   "metadata": {},
   "outputs": [
    {
     "name": "stdout",
     "output_type": "stream",
     "text": [
      "[2, 4, 3, 1, 5, 9]\n",
      "[1, 'Hi']\n",
      "3\n",
      "[1, 'Bye']\n",
      "[2, 4, 3]\n",
      "[1, 'Bye', 'Hi']\n",
      "[1, 'Hi', 'Bye', 'Hi']\n",
      "[1, 'Hi', 'Bye']\n",
      "['Hi', 'Bye']\n",
      "Bye\n",
      "['Hi']\n",
      "[]\n",
      "[1, 2, 3, 4, 5, 9]\n",
      "[2, 4, 3, 1, 5, 9]\n",
      "[1, 2, 3, 4, 5, 9]\n",
      "[9, 5, 4, 3, 2, 1]\n"
     ]
    }
   ],
   "source": [
    "list1 = [2,4,3,1,5,9]\n",
    "print(list1)\n",
    "list2 = [1,'Hi']\n",
    "print(list2)\n",
    "#access\n",
    "print(list1[2])\n",
    "list2[1] = 'Bye'\n",
    "print(list2)\n",
    "print(list1[:3])\n",
    "#add\n",
    "list2.append('Hi')\n",
    "print(list2)\n",
    "list2.insert(1,'Hi')\n",
    "print(list2)\n",
    "#delete\n",
    "del(list2[3])\n",
    "print(list2)\n",
    "list2.remove(1)\n",
    "print(list2)\n",
    "print(list2.pop())\n",
    "print(list2)\n",
    "#empty list\n",
    "list3 = []\n",
    "print(list3)\n",
    "#Sorting\n",
    "#temporary\n",
    "print(sorted(list1))\n",
    "print(list1)\n",
    "#permanent\n",
    "list1.sort()\n",
    "print(list1)\n",
    "list1.sort(reverse=True)\n",
    "print(list1)"
   ]
  },
  {
   "cell_type": "code",
   "execution_count": 94,
   "metadata": {},
   "outputs": [
    {
     "name": "stdout",
     "output_type": "stream",
     "text": [
      "[5, 6, 7, 8, 9]\n",
      "['H', 'i']\n",
      "['Hello', 'World']\n",
      "9\n",
      "24\n",
      "True\n"
     ]
    }
   ],
   "source": [
    "print(list(range(5,10)))\n",
    "print(list(\"Hi\"))\n",
    "print(list(\"Hello World\".split()))\n",
    "print(max(list1))\n",
    "print(sum(list1))\n",
    "print(1 in list1)"
   ]
  },
  {
   "cell_type": "markdown",
   "metadata": {},
   "source": [
    "## List Comprehensions"
   ]
  },
  {
   "cell_type": "code",
   "execution_count": 74,
   "metadata": {},
   "outputs": [
    {
     "name": "stdout",
     "output_type": "stream",
     "text": [
      "[1, 4, 9, 16, 25, 36, 49, 64, 81, 100]\n",
      "[1.0, 4.0, 9.0, 16.0, 25.0, 36.0, 49.0, 64.0, 81.0, 100.0]\n"
     ]
    }
   ],
   "source": [
    "squares =[x**2 for x in range(1,11)]\n",
    "print(squares)\n",
    "squares_f = [float(x) for x in squares]\n",
    "print(squares_f)"
   ]
  },
  {
   "cell_type": "markdown",
   "metadata": {},
   "source": [
    "## Tuples"
   ]
  },
  {
   "cell_type": "code",
   "execution_count": 76,
   "metadata": {},
   "outputs": [
    {
     "name": "stdout",
     "output_type": "stream",
     "text": [
      "(800, 600)\n",
      "(1, 2)\n"
     ]
    }
   ],
   "source": [
    "dimension = (800,600)\n",
    "print(dimension)\n",
    "a =1,2\n",
    "print(a)"
   ]
  },
  {
   "cell_type": "markdown",
   "metadata": {},
   "source": [
    "## Dictionary"
   ]
  },
  {
   "cell_type": "code",
   "execution_count": 87,
   "metadata": {},
   "outputs": [
    {
     "name": "stdout",
     "output_type": "stream",
     "text": [
      "value\n",
      "{'key': 'value', 'points': 5, 'add': 2}\n",
      "{'key': 'value', 'points': 5}\n",
      "dict_values(['value', 5])\n",
      "dict_keys(['key', 'points'])\n",
      "dict_items([('key', 'value'), ('points', 5)])\n",
      "['key', 'points']\n"
     ]
    }
   ],
   "source": [
    "a = {'key': 'value', 'points': 5}\n",
    "print(a['key'])\n",
    "a['add'] =2\n",
    "print(a)\n",
    "del a['add']\n",
    "print(a)\n",
    "print(a.values())\n",
    "print(a.keys())\n",
    "print(a.items())\n",
    "print([x for x in a.keys()])\n"
   ]
  },
  {
   "cell_type": "code",
   "execution_count": 89,
   "metadata": {},
   "outputs": [
    {
     "name": "stdout",
     "output_type": "stream",
     "text": [
      "OrderedDict([('hemant', ['python', 'ruby']), ('abhishek', ['c']), ('vinod', ['ruby', 'go']), ('sarang', ['python', 'haskell'])])\n"
     ]
    }
   ],
   "source": [
    "from collections import OrderedDict\n",
    "fav_languages = OrderedDict()\n",
    "fav_languages['hemant'] = ['python', 'ruby']\n",
    "fav_languages['abhishek'] = ['c']\n",
    "fav_languages['vinod'] = ['ruby', 'go']\n",
    "fav_languages['sarang'] = ['python', 'haskell']\n",
    "print(fav_languages)"
   ]
  },
  {
   "cell_type": "markdown",
   "metadata": {},
   "source": [
    "## Date and Time"
   ]
  },
  {
   "cell_type": "code",
   "execution_count": 30,
   "metadata": {},
   "outputs": [
    {
     "name": "stdout",
     "output_type": "stream",
     "text": [
      "2019-06-26 11:22:46.218662\n"
     ]
    }
   ],
   "source": [
    "from datetime import datetime\n",
    "print(datetime.now())"
   ]
  },
  {
   "cell_type": "markdown",
   "metadata": {},
   "source": [
    "## If Statements"
   ]
  },
  {
   "cell_type": "code",
   "execution_count": 92,
   "metadata": {},
   "outputs": [
    {
     "name": "stdout",
     "output_type": "stream",
     "text": [
      "You're old enough to vote!\n",
      "5\n"
     ]
    }
   ],
   "source": [
    "age = 19\n",
    "if age >= 18:\n",
    "    print(\"You're old enough to vote!\")\n",
    "else:\n",
    "    print(\"You can't vote yet.\")\n",
    "    \n",
    "age = 12\n",
    "if age < 4:\n",
    "    price = 0\n",
    "elif age < 18:\n",
    "    price = 5\n",
    "else:\n",
    "    price = 10\n",
    "    \n",
    "print(price)"
   ]
  },
  {
   "cell_type": "markdown",
   "metadata": {},
   "source": [
    "## While Loops"
   ]
  },
  {
   "cell_type": "code",
   "execution_count": 95,
   "metadata": {},
   "outputs": [
    {
     "name": "stdout",
     "output_type": "stream",
     "text": [
      "1\n",
      "2\n",
      "3\n",
      "4\n",
      "5\n"
     ]
    }
   ],
   "source": [
    "current_number = 1\n",
    "while current_number <= 5:\n",
    "    print(current_number)\n",
    "    current_number += 1"
   ]
  },
  {
   "cell_type": "code",
   "execution_count": 97,
   "metadata": {},
   "outputs": [
    {
     "name": "stdout",
     "output_type": "stream",
     "text": [
      "\n",
      "What cities have you visited?\n",
      "Enter 'quit' when you're done. Bengaluru\n",
      "I've been to Bengaluru!\n",
      "\n",
      "What cities have you visited?\n",
      "Enter 'quit' when you're done. quit\n"
     ]
    }
   ],
   "source": [
    "prompt = \"\\nWhat cities have you visited?\"\n",
    "prompt += \"\\nEnter 'quit' when you're done. \"\n",
    "while True:\n",
    "    city = input(prompt)\n",
    "    if city == 'quit':\n",
    "        break\n",
    "    else:\n",
    "        print(\"I've been to \" + city + \"!\")"
   ]
  },
  {
   "cell_type": "markdown",
   "metadata": {},
   "source": [
    "## For Loops"
   ]
  },
  {
   "cell_type": "markdown",
   "metadata": {},
   "source": [
    "# Functions"
   ]
  }
 ],
 "metadata": {
  "kernelspec": {
   "display_name": "Python 3",
   "language": "python",
   "name": "python3"
  },
  "language_info": {
   "codemirror_mode": {
    "name": "ipython",
    "version": 3
   },
   "file_extension": ".py",
   "mimetype": "text/x-python",
   "name": "python",
   "nbconvert_exporter": "python",
   "pygments_lexer": "ipython3",
   "version": "3.6.4"
  }
 },
 "nbformat": 4,
 "nbformat_minor": 2
}
